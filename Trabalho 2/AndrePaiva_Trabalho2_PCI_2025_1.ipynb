{
 "cells": [
  {
   "cell_type": "markdown",
   "id": "797f4471",
   "metadata": {},
   "source": [
    "# **Trabalho 2 - Memorial de Cálculo e Gráficos**\n",
    "\n",
    "**Disciplina:** PPGEE0017 - Projeto de Circuitos Integrados - PPGEEC/UFBA\n",
    "\n",
    "**Aluno:** André Paiva Conrado Rodrigues (N=2)"
   ]
  },
  {
   "cell_type": "markdown",
   "id": "42c3416e",
   "metadata": {},
   "source": [
    "## 1 - Escopo do trabalho\n",
    "\n",
    "\n",
    "### Especificações do circuito\n",
    "\n",
    "Extração de características de amplificador OTA Miller com os seguintes parâmetros:\n",
    "\n",
    "| **Parâmetro** | **Valor** | **Unidade**      |\n",
    "|---------------|-----------|------------------|\n",
    "| $W_{1,2}$     | 10        | $\\mu \\mathrm{m}$ |\n",
    "| $L_{1,2}$     | 2         | $\\mu \\mathrm{m}$ |\n",
    "| $W_{3,4}$     | 20        | $\\mu \\mathrm{m}$ |\n",
    "| $L_{3,4}$     | 2         | $\\mu \\mathrm{m}$ |\n",
    "| $W_5$         | 1         | $\\mu \\mathrm{m}$ |\n",
    "| $L_5$         | 1         | $\\mu \\mathrm{m}$ |\n",
    "| $W_6$         | 80        | $\\mu \\mathrm{m}$ |\n",
    "| $L_6$         | 0,5       | $\\mu \\mathrm{m}$ |\n",
    "| $W_7$         | 40        | $\\mu \\mathrm{m}$ |\n",
    "| $L_7$         | 20        | $\\mu \\mathrm{m}$ |\n",
    "| $C_L$         | 0,2       | pF               |\n",
    "| $C_M$         | 2,0       | pF               |\n",
    "| $V_{GG5}$     | -0,1      | V                |\n",
    "| $V_{DD}$      | 0,6       | V                |\n",
    "| $V_{SS}$      | -0,6      | V                |\n",
    "\n",
    "### Parâmetros da Tecnologia\n",
    "\n",
    "| **Símbolo** | **Definição**                  | **Unidade** | **Canal N**            | **Canal P**            |\n",
    "|-------------|--------------------------------|-------------|------------------------|------------------------|\n",
    "| $I_{SQ}$    | Corrente de norm. (quadrado)   | nA          | 353,38                 | 49,514                 |\n",
    "| $n$         | Fator de rampa                 | -           | 1,3790                 | 1,2952                 |\n",
    "| $\\phi_{t}$  | Potencial Termodinâmico        | mV          | 26                     | 26                     |\n",
    "| $V_{T0}$    | Tensão de limiar no equilíbrio | V           | 0,3618                 | -0,3554                |\n",
    "| $U_{CRIT}$  | Campo Elétrico Crítico         | V/m         | $1,712 \\cdot 10^{6}$   | $6,960 \\cdot 10^{6}$   |\n",
    "| $D_{SUB}$   | Parâmetro de modelo DIBL       | -           | $4,057 \\cdot 10^{-6}$  | $3,781 \\cdot 10^{-3}$  |\n",
    "| $\\eta_{0}$  | Parâmetro de modelo DIBL       | -           | $2,750 \\cdot 10^{-6}$  | $1,151 \\cdot 10^{-3}$  |\n",
    "| $I_{t0}$    | Parâmetro de modelo DIBL       | m           | $3,1116 \\cdot 10^{-8}$ | $3,1116 \\cdot 10^{-8}$ |\n",
    "| $\\lambda$   | Parâmetro de modelo CLM        | -           | 1,9784                 | 0,8847                 |\n",
    "| $DL$        | Encurtamento do canal          | nm          | 10,4                   | 14,8                   |\n",
    "| $DW$        | Estreitamento do canal         | nm          | 0,24                   | 0                      |"
   ]
  },
  {
   "cell_type": "code",
   "execution_count": 1,
   "id": "b396eade",
   "metadata": {},
   "outputs": [],
   "source": [
    "# Importação de bibliotecas\n",
    "import numpy as np\n",
    "import pandas as pd\n",
    "from matplotlib import pyplot as plt\n",
    "import seaborn as sns\n",
    "sns.set_style(\"darkgrid\")"
   ]
  },
  {
   "cell_type": "code",
   "execution_count": 2,
   "id": "15b4a211",
   "metadata": {},
   "outputs": [],
   "source": [
    "# Especificações do amplificador OTA Miller\n",
    "W_12 = 10e-6\n",
    "L_12 = 2e-6\n",
    "W_34 = 20e-6\n",
    "L_34 = 2e-6\n",
    "W_5 = 1e-6\n",
    "L_5 = 1e-6\n",
    "W_6 = 80e-6\n",
    "L_6 = 0.5e-6\n",
    "W_7 = 40e-6\n",
    "L_7 = 20e-6\n",
    "C_L = 0.2e-12\n",
    "C_M = 2e-12\n",
    "VGG5 = -0.1"
   ]
  },
  {
   "cell_type": "code",
   "execution_count": 3,
   "id": "ca3dd6ae",
   "metadata": {},
   "outputs": [],
   "source": [
    "# Parâmetros da tecnologia\n",
    "Isq_p = 49.514e-9\n",
    "Isq_n = 353.38e-9\n",
    "N_p = 1.2952\n",
    "N_n = 1.3790\n",
    "VT0_p = -0.3554\n",
    "VT0_n = 0.3618\n",
    "Phi_t = 26e-3\n",
    "Ucrit_p = 6.96e6\n",
    "Ucrit_n = 1.712e6\n",
    "Dsub_p = 3.781e-3\n",
    "Dsub_n = 4.057e-6\n",
    "Eta0_p = 1.151e-3\n",
    "Eta0_p = 2.75e-6\n",
    "It0 = 3.1116e-8\n",
    "lambda_p = 0.8847\n",
    "lambda_n = 1.9784\n",
    "DL_p = 14.8\n",
    "DL_n = 10.4\n",
    "DW_p = 0\n",
    "DW_n = 0.24"
   ]
  },
  {
   "cell_type": "markdown",
   "id": "891e3373",
   "metadata": {},
   "source": [
    "## 2 - Medição das correntes de dreno em simulação"
   ]
  },
  {
   "cell_type": "code",
   "execution_count": 4,
   "id": "0ea802e6",
   "metadata": {},
   "outputs": [],
   "source": [
    "# Correntes de dreno medidas em simulação\n",
    "ID_M12 = 9.22461e-06 # Medido com sinal positivo\n",
    "ID_M34 = 9.22461e-06 # Medido com sinal negativo\n",
    "ID_M5 = 1.84492e-05 # Medido com sinal positivo\n",
    "ID_M6 = 6.60956e-05 # Medido com sinal negativo\n",
    "ID_M7 = 6.60956e-05 # Medido com sinal positivo"
   ]
  },
  {
   "cell_type": "markdown",
   "id": "c5819458",
   "metadata": {},
   "source": [
    "## 3 - Cálculo dos níveis de inversão"
   ]
  },
  {
   "cell_type": "code",
   "execution_count": null,
   "id": "584abdbe",
   "metadata": {},
   "outputs": [],
   "source": [
    "# Função para cálculo de nível de inversão\n",
    "def if_calc(Id, W, L, mos_type):\n",
    "    if(mos_type == 'p' or mos_type == 'P'):\n",
    "        return Id/(Isq_p*W/L)\n",
    "    elif(mos_type == 'n' or mos_type == 'N'):\n",
    "        return Id/(Isq_n*W/L)\n",
    "    else:\n",
    "        return -np.inf"
   ]
  },
  {
   "cell_type": "code",
   "execution_count": 6,
   "id": "74ef0d17",
   "metadata": {},
   "outputs": [
    {
     "name": "stdout",
     "output_type": "stream",
     "text": [
      "If M12: 5.2207878204765406\n",
      "If M34: 18.630306579957182\n",
      "If M5: 52.2078216084668\n",
      "If M6: 8.343044391485234\n",
      "If M7: 93.5191578470768\n"
     ]
    }
   ],
   "source": [
    "If_M12 = if_calc(ID_M12, W_12, L_12, 'n')\n",
    "If_M34 = if_calc(ID_M34, W_34, L_34, 'p')\n",
    "If_M5 = if_calc(ID_M5, W_5, L_5, 'n')\n",
    "If_M6 = if_calc(ID_M6, W_6, L_6, 'p')\n",
    "If_M7 = if_calc(ID_M7, W_7, L_7, 'n')\n",
    "\n",
    "print(f\"If M12: {If_M12}\")\n",
    "print(f\"If M34: {If_M34}\")\n",
    "print(f\"If M5: {If_M5}\")\n",
    "print(f\"If M6: {If_M6}\")\n",
    "print(f\"If M7: {If_M7}\")"
   ]
  },
  {
   "cell_type": "markdown",
   "id": "97a0f74e",
   "metadata": {},
   "source": [
    "|           | $I_{D} (\\mu A)$ | $I_{f}$ |\n",
    "|-----------|-----------------|---------|\n",
    "| $M_{1,2}$ | 9,22461         | 5,221   |\n",
    "| $M_{3,4}$ | 9,22461         | 18,630  |\n",
    "| $M_5$     | 18,4492         | 52,208  |\n",
    "| $M_6$     | 66,0956         | 8,343   |\n",
    "| $M_7$     | 66,0956         | 93,519  |"
   ]
  },
  {
   "cell_type": "markdown",
   "id": "c239564d",
   "metadata": {},
   "source": [
    "## 4 - Cálculo dos parâmetros de desempenho"
   ]
  },
  {
   "cell_type": "code",
   "execution_count": null,
   "id": "c1c4e935",
   "metadata": {},
   "outputs": [],
   "source": [
    "# Funções auxiliares"
   ]
  }
 ],
 "metadata": {
  "kernelspec": {
   "display_name": "base",
   "language": "python",
   "name": "python3"
  },
  "language_info": {
   "codemirror_mode": {
    "name": "ipython",
    "version": 3
   },
   "file_extension": ".py",
   "mimetype": "text/x-python",
   "name": "python",
   "nbconvert_exporter": "python",
   "pygments_lexer": "ipython3",
   "version": "3.11.5"
  }
 },
 "nbformat": 4,
 "nbformat_minor": 5
}
