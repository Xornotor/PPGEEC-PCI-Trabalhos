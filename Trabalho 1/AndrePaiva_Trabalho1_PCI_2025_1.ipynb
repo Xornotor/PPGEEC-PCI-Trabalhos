{
 "cells": [
  {
   "cell_type": "markdown",
   "id": "88b4a6a4",
   "metadata": {
    "id": "88b4a6a4"
   },
   "source": [
    "# **Trabalho 1 - Fonte de Corrente**\n",
    "\n",
    "**Disciplina:** PPGEE0017 - Projeto de Circuitos Integrados\n",
    "\n",
    "**Discente:** André Paiva Conrado Rodrigues (N=2)"
   ]
  },
  {
   "cell_type": "markdown",
   "id": "ed0de1ae",
   "metadata": {
    "id": "ed0de1ae"
   },
   "source": [
    "## 1 - Escopo do trabalho\n",
    "\n",
    "\n",
    "### 1.1 - Características do circuito a ser dimensionado\n",
    "\n",
    "Dimensionamento de Fontes de Corrente (simples e cascode) com os seguintes parâmetros:\n",
    "\n",
    "| Parâmetro | Min | Typ  | Máx   | Unidade |\n",
    "|-----------|-----|------|-------|---------|\n",
    "| $I_{out}$ | --  | 20   | --    | $\\mu \\mathrm{A}$ |\n",
    "| $V_{out}$ | --  | --   | 0.3   | V       |\n",
    "| $V_{DD}$  | --  | 0.6  | --    | V       |\n",
    "| $V_{SS}$  | --  | -0.6 | --    | V       |\n",
    "| $W$       | 160 | --   | 32000 | nm      |\n",
    "| $L$       | 120 | --   | 24000 | nm      |\n",
    "\n",
    "### 1.2 - Parâmetros da tecnologia\n",
    "\n",
    "| Parâmetro  | Canal N | Canal P | Unidade |\n",
    "|------------|---------|---------|---------|\n",
    "| $I_{sq}$   | 353.38  | 49.514  | nA      |\n",
    "| $n$        | 1,3790  | 1,2952  | -       |\n",
    "| $\\phi_{t}$ | 26      | 26      | mV      |\n",
    "| $V_{T0}$   | 0,3618  | -0,3554 | V       |"
   ]
  },
  {
   "cell_type": "code",
   "execution_count": 1,
   "id": "QlKdsMka2nVa",
   "metadata": {
    "id": "QlKdsMka2nVa"
   },
   "outputs": [],
   "source": [
    "# Características da fonte de corrente\n",
    "I_out = 20e-6\n",
    "V_out_max = 0.3\n",
    "VDD = 0.6\n",
    "VSS = -0.6\n",
    "\n",
    "# Parâmetros da tecnologia\n",
    "Isq_p = 49.514e-9\n",
    "Isq_n = 353.38e-9\n",
    "N_p = 1.2952\n",
    "N_n = 1.3790\n",
    "VT0_p = -0.3554\n",
    "VT0_n = 0.3618\n",
    "Phi_t = 26e-3"
   ]
  },
  {
   "cell_type": "code",
   "execution_count": 2,
   "id": "MvIqlJmy55vL",
   "metadata": {
    "id": "MvIqlJmy55vL"
   },
   "outputs": [],
   "source": [
    "# Importação de bibliotecas\n",
    "import numpy as np"
   ]
  },
  {
   "cell_type": "markdown",
   "id": "hzDEmn7g3cuR",
   "metadata": {
    "id": "hzDEmn7g3cuR"
   },
   "source": [
    "## 2 - Dimensionamento de fonte de corrente simples"
   ]
  },
  {
   "cell_type": "markdown",
   "id": "45OwoUxj3ilj",
   "metadata": {
    "id": "45OwoUxj3ilj"
   },
   "source": [
    "### Dimensionamento de $M_{1S}$"
   ]
  },
  {
   "cell_type": "code",
   "execution_count": 22,
   "id": "_1X0ptrO4Kg3",
   "metadata": {
    "colab": {
     "base_uri": "https://localhost:8080/"
    },
    "id": "_1X0ptrO4Kg3",
    "outputId": "f5f6242b-597b-415c-8398-7be83bf289c2"
   },
   "outputs": [
    {
     "name": "stdout",
     "output_type": "stream",
     "text": [
      "Dimensionamento de M1s\n",
      "======================\n",
      "If(max) = 71.905\n",
      "If = 70.000\n",
      "VGG = -0.0393\n",
      "W/L = 5.770\n",
      "W = 1.154e-06\n",
      "L = 2.000e-07\n"
     ]
    }
   ],
   "source": [
    "print(\"Dimensionamento de M1s\")\n",
    "print(\"======================\")\n",
    "\n",
    "# Cálculo de if_max\n",
    "if_max_M1s = (((VDD - V_out_max)/Phi_t) - 3)**2 - 1\n",
    "print(f'If(max) = {if_max_M1s:.3f}')\n",
    "\n",
    "# Seleção de if < if_max\n",
    "if_M1s = 70\n",
    "print(f'If = {if_M1s:.3f}')\n",
    "\n",
    "# Cálculo de VGG\n",
    "f_if_M1s =  np.sqrt(if_M1s + 1) - 2 + np.log(np.sqrt(if_M1s + 1) - 1)\n",
    "vgg_M1s = -N_p * Phi_t * f_if_M1s + VT0_p + VDD\n",
    "print(f\"VGG = {vgg_M1s:.4f}\")\n",
    "\n",
    "# Determinar razão de aspecto\n",
    "WL_ratio_M1s = I_out/(Isq_p * if_M1s)\n",
    "print(f\"W/L = {WL_ratio_M1s:.3f}\")\n",
    "\n",
    "# Escolha de W e L\n",
    "L_M1s = 200e-9\n",
    "W_M1s = L_M1s * WL_ratio_M1s\n",
    "print(f\"W = {W_M1s:.3e}\")\n",
    "print(f\"L = {L_M1s:.3e}\")"
   ]
  },
  {
   "cell_type": "markdown",
   "id": "87af12c0",
   "metadata": {},
   "source": [
    "*    $V_{GG}$ antes do ajuste: -0,0393V\n",
    "*    $V_{GG}$ após o ajuste: -0,0546V\n",
    "   \n",
    "**Circuito usado para simulação**\n",
    "\n",
    "![Circuito Figura A Questão 2](jupyter_img/FiguraA_Questao2_Circuito.jpg)\n",
    "\n",
    "**Plot de $I_{out} \\times V_{out}$ antes (ciano) e após (vermelho) o ajuste empírico**\n",
    "\n",
    "![Plot Figura A Questão 2](jupyter_img/FiguraA_Questao2_Plot.jpg)"
   ]
  }
 ],
 "metadata": {
  "colab": {
   "provenance": []
  },
  "kernelspec": {
   "display_name": "Python 3 (ipykernel)",
   "language": "python",
   "name": "python3"
  },
  "language_info": {
   "codemirror_mode": {
    "name": "ipython",
    "version": 3
   },
   "file_extension": ".py",
   "mimetype": "text/x-python",
   "name": "python",
   "nbconvert_exporter": "python",
   "pygments_lexer": "ipython3",
   "version": "3.11.5"
  }
 },
 "nbformat": 4,
 "nbformat_minor": 5
}
