{
 "cells": [
  {
   "cell_type": "markdown",
   "id": "88b4a6a4",
   "metadata": {},
   "source": [
    "# **Memorial de Cálculo - Trabalho 1**\n",
    "\n",
    "**Disciplina:** PPGEE0017 - Projeto de Circuitos Integrados\n",
    "\n",
    "**Discente:** André Paiva Conrado Rodrigues (N=2)"
   ]
  },
  {
   "cell_type": "markdown",
   "id": "ed0de1ae",
   "metadata": {},
   "source": [
    "## 1 - Escopo do trabalho\n",
    "\n",
    "\n",
    "### 1.1 - Características do circuito a ser dimensionado\n",
    "\n",
    "Dimensionamento de Fontes de Corrente (simples e cascode) com os seguintes parâmetros:\n",
    "\n",
    "| Parâmetro | Min | Typ  | Máx   | Unidade |\n",
    "|-----------|-----|------|-------|---------|\n",
    "| $I_{out}$ | --  | 20   | --    | $\\mu \\mathrm{A}$ |\n",
    "| $V_{out}$ | --  | --   | 0.3   | V       |\n",
    "| $V_{DD}$  | --  | 0.6  | --    | V       |\n",
    "| $V_{SS}$  | --  | -0.6 | --    | V       |\n",
    "| $W$       | 160 | --   | 32000 | nm      |\n",
    "| $L$       | 120 | --   | 24000 | nm      |\n",
    "\n",
    "### 1.2 - Parâmetros da tecnologia\n",
    "\n",
    "| Parâmetro  | Canal N | Canal P | Unidade |\n",
    "|------------|---------|---------|---------|\n",
    "| $I_{sq}$   | 353.38  | 49.514  | nA      |\n",
    "| $n$        | 1,3790  | 1,2952  | -       |\n",
    "| $\\phi_{t}$ | 26      | 26      | mV      |\n",
    "| $V_{T0}$   | 0,3618  | -0,3554 | V       |"
   ]
  }
 ],
 "metadata": {
  "kernelspec": {
   "display_name": "base",
   "language": "python",
   "name": "python3"
  },
  "language_info": {
   "name": "python",
   "version": "3.11.5"
  }
 },
 "nbformat": 4,
 "nbformat_minor": 5
}
