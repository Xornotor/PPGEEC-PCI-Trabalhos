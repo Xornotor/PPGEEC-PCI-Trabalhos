{
 "cells": [
  {
   "cell_type": "markdown",
   "id": "88b4a6a4",
   "metadata": {
    "id": "88b4a6a4"
   },
   "source": [
    "# **Trabalho 1 - Memorial de Cálculo e Gráficos**\n",
    "\n",
    "**Disciplina:** PPGEE0017 - Projeto de Circuitos Integrados - PPGEEC/UFBA\n",
    "\n",
    "**Aluno:** André Paiva Conrado Rodrigues (N=2)"
   ]
  },
  {
   "cell_type": "markdown",
   "id": "ed0de1ae",
   "metadata": {
    "id": "ed0de1ae"
   },
   "source": [
    "## 1 - Escopo do trabalho\n",
    "\n",
    "\n",
    "### Características do circuito a ser dimensionado\n",
    "\n",
    "Dimensionamento de Fontes de Corrente (simples e cascode) com os seguintes parâmetros:\n",
    "\n",
    "| Parâmetro | Min | Typ  | Máx   | Unidade |\n",
    "|-----------|-----|------|-------|---------|\n",
    "| $I_{out}$ | --  | 20   | --    | $\\mu \\mathrm{A}$ |\n",
    "| $V_{out}$ | --  | --   | 0.3   | V       |\n",
    "| $V_{DD}$  | --  | 0.6  | --    | V       |\n",
    "| $V_{SS}$  | --  | -0.6 | --    | V       |\n",
    "| $W$       | 160 | --   | 32000 | nm      |\n",
    "| $L$       | 120 | --   | 24000 | nm      |\n",
    "\n",
    "### Parâmetros da tecnologia\n",
    "\n",
    "| Parâmetro  | Canal N | Canal P | Unidade |\n",
    "|------------|---------|---------|---------|\n",
    "| $I_{sq}$   | 353.38  | 49.514  | nA      |\n",
    "| $n$        | 1,3790  | 1,2952  | -       |\n",
    "| $\\phi_{t}$ | 26      | 26      | mV      |\n",
    "| $V_{T0}$   | 0,3618  | -0,3554 | V       |"
   ]
  },
  {
   "cell_type": "code",
   "execution_count": 13,
   "id": "QlKdsMka2nVa",
   "metadata": {
    "id": "QlKdsMka2nVa"
   },
   "outputs": [],
   "source": [
    "# Características da fonte de corrente\n",
    "I_out = 20e-6\n",
    "V_out_max = 0.3\n",
    "VDD = 0.6\n",
    "VSS = -0.6\n",
    "\n",
    "# Parâmetros da tecnologia\n",
    "Isq_p = 49.514e-9\n",
    "Isq_n = 353.38e-9\n",
    "N_p = 1.2952\n",
    "N_n = 1.3790\n",
    "VT0_p = -0.3554\n",
    "VT0_n = 0.3618\n",
    "Phi_t = 26e-3"
   ]
  },
  {
   "cell_type": "code",
   "execution_count": 14,
   "id": "MvIqlJmy55vL",
   "metadata": {
    "id": "MvIqlJmy55vL"
   },
   "outputs": [],
   "source": [
    "# Importação de bibliotecas\n",
    "import numpy as np"
   ]
  },
  {
   "cell_type": "markdown",
   "id": "hzDEmn7g3cuR",
   "metadata": {
    "id": "hzDEmn7g3cuR"
   },
   "source": [
    "## 2 - Dimensionamento de fonte de corrente simples"
   ]
  },
  {
   "cell_type": "markdown",
   "id": "45OwoUxj3ilj",
   "metadata": {
    "id": "45OwoUxj3ilj"
   },
   "source": [
    "### 2.A - Dimensionamento de $M_{1S}$"
   ]
  },
  {
   "cell_type": "code",
   "execution_count": 15,
   "id": "_1X0ptrO4Kg3",
   "metadata": {
    "colab": {
     "base_uri": "https://localhost:8080/"
    },
    "id": "_1X0ptrO4Kg3",
    "outputId": "f5f6242b-597b-415c-8398-7be83bf289c2"
   },
   "outputs": [
    {
     "name": "stdout",
     "output_type": "stream",
     "text": [
      "Dimensionamento de M1s\n",
      "======================\n",
      "If < 71.905\n",
      "If = 70.000\n",
      "VGG = -0.0393\n",
      "W/L = 5.770\n",
      "W = 1.154e-06\n",
      "L = 2.000e-07\n"
     ]
    }
   ],
   "source": [
    "print(\"Dimensionamento de M1s\")\n",
    "print(\"======================\")\n",
    "\n",
    "# Cálculo de if_max\n",
    "if_max_M1s = (((VDD - V_out_max)/Phi_t) - 3)**2 - 1\n",
    "print(f'If < {if_max_M1s:.3f}')\n",
    "\n",
    "# Seleção de if < if_max\n",
    "if_M1s = 70\n",
    "print(f'If = {if_M1s:.3f}')\n",
    "\n",
    "# Função para determinar f(i_f)\n",
    "\n",
    "def f_if(i_f):\n",
    "    return np.sqrt(i_f + 1) - 2 + np.log(np.sqrt(i_f + 1) - 1)\n",
    "\n",
    "# Cálculo de VGG\n",
    "f_if_M1s =  f_if(if_M1s)\n",
    "vgg_M1s = -N_p * Phi_t * f_if_M1s + VT0_p + VDD\n",
    "print(f\"VGG = {vgg_M1s:.4f}\")\n",
    "\n",
    "# Determinar razão de aspecto\n",
    "WL_ratio_M1s = I_out/(Isq_p * if_M1s)\n",
    "print(f\"W/L = {WL_ratio_M1s:.3f}\")\n",
    "\n",
    "# Escolha de W e L\n",
    "L_M1s = 200e-9\n",
    "W_M1s = L_M1s * WL_ratio_M1s\n",
    "print(f\"W = {W_M1s:.3e}\")\n",
    "print(f\"L = {L_M1s:.3e}\")"
   ]
  },
  {
   "cell_type": "markdown",
   "id": "61f101ec",
   "metadata": {},
   "source": [
    "*    $V_{GG1S}$ antes do ajuste: -0,0393V\n",
    "*    $V_{GG1S}$ após o ajuste: -0,0546V"
   ]
  },
  {
   "cell_type": "code",
   "execution_count": 16,
   "id": "dda1c51a",
   "metadata": {},
   "outputs": [],
   "source": [
    "vgg_M1s_adj = -0.0546"
   ]
  },
  {
   "cell_type": "markdown",
   "id": "87af12c0",
   "metadata": {},
   "source": [
    "**Circuito usado para dimensionamento da fonte de corrente simples**\n",
    "\n",
    "![Circuito Figura A Questão 2](jupyter_img/FiguraA_Questao2_Circuito.jpg)\n",
    "\n",
    "**Plot de $I_{out} \\times V_{out}$ antes (ciano) e após (vermelho) o ajuste empírico**\n",
    "\n",
    "![Plot Figura A Questão 2](jupyter_img/FiguraA_Questao2_Plot.jpg)"
   ]
  },
  {
   "cell_type": "markdown",
   "id": "cf345a98",
   "metadata": {},
   "source": [
    "### 2.B - Dimensionamento de $M_{3S}$ e $M_{4S}$"
   ]
  },
  {
   "cell_type": "code",
   "execution_count": 17,
   "id": "424051db",
   "metadata": {},
   "outputs": [
    {
     "name": "stdout",
     "output_type": "stream",
     "text": [
      "Dimensionamento de M3s e M4s\n",
      "============================\n",
      "If M3s = 30.519\n",
      "If M4s = 77.025\n",
      "W/L M3s = 0.278\n",
      "W/L M4s = 0.787\n",
      "W M3s = 2.000e-07\n",
      "L M3s = 7.190e-07\n",
      "W M4s = 2.000e-07\n",
      "L M4s = 2.543e-07\n"
     ]
    }
   ],
   "source": [
    "print(\"Dimensionamento de M3s e M4s\")\n",
    "print(\"============================\")\n",
    "\n",
    "# Função para inversa de f(if)\n",
    "def f_if_inv(f_if):\n",
    "    u = f_if + 2\n",
    "    k_u = 1 - ((84.4839)/(u**2 + 150.8640))\n",
    "    frac = np.exp(u-1)/(1 + (k_u * np.log(1 + np.exp(u-1))))\n",
    "    i_f = (1 + np.log(1+frac))**2 - 1\n",
    "    return i_f\n",
    "\n",
    "# Cálculo de funções dos níveis de inversão\n",
    "f_if_M3s = (vgg_M1s_adj - VSS - VT0_n)/(N_n * Phi_t)\n",
    "f_if_M4s = -(vgg_M1s_adj - VDD - VT0_p)/(N_p * Phi_t)\n",
    "\n",
    "# Definição de níveis de inversão de M3s e M4s\n",
    "if_M3s = f_if_inv(f_if_M3s)\n",
    "if_M4s = f_if_inv(f_if_M4s)\n",
    "print(f\"If M3s = {if_M3s:.3f}\")\n",
    "print(f\"If M4s = {if_M4s:.3f}\")\n",
    "\n",
    "# Escolha de I_d\n",
    "I_d_M34s = 3e-6\n",
    "\n",
    "# Escolha de W/L para M3s e M4s\n",
    "WL_ratio_M3s = I_d_M34s/(Isq_n*if_M3s)\n",
    "WL_ratio_M4s = I_d_M34s/(Isq_p*if_M4s)\n",
    "print(f\"W/L M3s = {WL_ratio_M3s:.3f}\")\n",
    "print(f\"W/L M4s = {WL_ratio_M4s:.3f}\")\n",
    "\n",
    "# Escolha de W e L\n",
    "W_M3s = 200e-9\n",
    "L_M3s = W_M3s/WL_ratio_M3s\n",
    "W_M4s = 200e-9\n",
    "L_M4s = W_M4s/WL_ratio_M4s\n",
    "print(f\"W M3s = {W_M3s:.3e}\")\n",
    "print(f\"L M3s = {L_M3s:.3e}\")\n",
    "print(f\"W M4s = {W_M4s:.3e}\")\n",
    "print(f\"L M4s = {L_M4s:.3e}\")"
   ]
  },
  {
   "cell_type": "markdown",
   "id": "beb9761b",
   "metadata": {},
   "source": [
    "*    $V_{GG1S}$ antes do ajuste: -0,1159V\n",
    "*    $V_{GG1S}$ após o ajuste: -0,0546V"
   ]
  },
  {
   "cell_type": "markdown",
   "id": "b4885779",
   "metadata": {},
   "source": [
    "Dimensões após o ajuste:\n",
    "\n",
    "*    $W_{3S}$ = 200 nm\n",
    "*    $L_{3S}$ = 1969 nm\n",
    "*    $W_{4S}$ = 200 nm\n",
    "*    $L_{4S}$ = 200 nm"
   ]
  },
  {
   "cell_type": "markdown",
   "id": "4f3b6b37",
   "metadata": {},
   "source": [
    "**Circuito usado para dimensionamento do divisor de tensão**\n",
    "\n",
    "![Circuito Figura A Questão 4](jupyter_img/FiguraA_Questao4_Circuito.jpg)"
   ]
  },
  {
   "cell_type": "markdown",
   "id": "cd7c517f",
   "metadata": {},
   "source": [
    "### 2.C - Simulação completa de fonte de corrente simples"
   ]
  },
  {
   "cell_type": "markdown",
   "id": "f3c209ac",
   "metadata": {},
   "source": [
    "**Circuito final usado para simulação da fonte de corrente simples**\n",
    "\n",
    "![Circuito Figura A Questão 5](jupyter_img/FiguraA_Questao5_Circuito.jpg)\n",
    "\n",
    "**Plot de $I_{out} \\times V_{out}$ na simulação do circuito final**\n",
    "\n",
    "![Plot Figura A Questão 2](jupyter_img/FiguraA_Questao5_Plot.jpg)"
   ]
  },
  {
   "cell_type": "code",
   "execution_count": 26,
   "id": "672c7d47",
   "metadata": {},
   "outputs": [
    {
     "name": "stdout",
     "output_type": "stream",
     "text": [
      "g_out Fonte simples = 5.491e-06\n"
     ]
    }
   ],
   "source": [
    "#Transcondutância de saída para o meio da faixa de excursão (fonte simples)\n",
    "g_out_simples = (19.995685e-6 - 20.001176e-6)/(-150e-3 - (-149e-3))\n",
    "print(f\"g_out Fonte simples = {g_out_simples:.3e}\")"
   ]
  },
  {
   "cell_type": "markdown",
   "id": "a29c8d82",
   "metadata": {},
   "source": [
    "## 3 - Dimensionamento de fonte de corrente cascode"
   ]
  },
  {
   "cell_type": "markdown",
   "id": "418300ab",
   "metadata": {},
   "source": [
    "### 3.A - Dimensionamento de $M_{1C}$ e $M_{2}$"
   ]
  },
  {
   "cell_type": "code",
   "execution_count": 19,
   "id": "128888cc",
   "metadata": {},
   "outputs": [
    {
     "name": "stdout",
     "output_type": "stream",
     "text": [
      "Dimensionamento de M1c e M2\n",
      "===========================\n",
      "If M2 = 15\n",
      "-0.013 < VGG M2 < 0.006\n",
      "VGG M2 = 0.000\n",
      "If M1c < 33.925\n",
      "If M1c = 33\n",
      "VGG M1c = 0.063\n",
      "W/L M1c = 12.240\n",
      "W/L M2  = 26.928\n",
      "W M1c = 2.448e-06\n",
      "L M1c = 2.000e-07\n",
      "W M2  = 5.386e-06\n",
      "L M2  = 2.000e-07\n"
     ]
    }
   ],
   "source": [
    "print(\"Dimensionamento de M1c e M2\")\n",
    "print(\"===========================\")\n",
    "\n",
    "# Escolha de If M2\n",
    "if_M2 = 15\n",
    "print(f\"If M2 = {if_M2}\")\n",
    "\n",
    "# Cálculo de limites para VGG M2\n",
    "vgg_M2_min = N_p*(V_out_max + 5*Phi_t - Phi_t*np.log(np.sqrt(if_M2 + 1) - 1)) - ((N_p - 1)*VDD) + VT0_p\n",
    "vgg_M2_max = VDD + VT0_p - N_p*Phi_t*(f_if(if_M2) + 4)\n",
    "print(f\"{vgg_M2_min:.3f} < VGG M2 < {vgg_M2_max:.3f}\")\n",
    "\n",
    "# Escolha de VGG M2\n",
    "vgg_M2 = 0.00\n",
    "print(f\"VGG M2 = {vgg_M2:.3f}\")\n",
    "\n",
    "# Cálculo de limite para If M1C\n",
    "if_M1c_max = (-f_if(if_M2) - ((vgg_M2 - VDD - VT0_p)/(N_p)) - 3)**2 - 1\n",
    "print(f\"If M1c < {if_M1c_max:.3f}\")\n",
    "\n",
    "if_M1c = 33\n",
    "print(f\"If M1c = {if_M1c}\")\n",
    "\n",
    "vgg_M1c = VDD + VT0_p - N_p*Phi_t*f_if(if_M1c)\n",
    "print(f\"VGG M1c = {vgg_M1c:.3f}\")\n",
    "\n",
    "WL_ratio_M1c = I_out/(Isq_p*if_M1c)\n",
    "WL_ratio_M2 = I_out/(Isq_p*if_M2)\n",
    "print(f\"W/L M1c = {WL_ratio_M1c:.3f}\")\n",
    "print(f\"W/L M2  = {WL_ratio_M2:.3f}\")\n",
    "\n",
    "L_M1c = 200e-9\n",
    "W_M1c = L_M1c * WL_ratio_M1c\n",
    "L_M2 = 200e-9\n",
    "W_M2 = L_M2 * WL_ratio_M2\n",
    "\n",
    "print(f\"W M1c = {W_M1c:.3e}\")\n",
    "print(f\"L M1c = {L_M1c:.3e}\")\n",
    "print(f\"W M2  = {W_M2:.3e}\")\n",
    "print(f\"L M2  = {L_M2:.3e}\")\n"
   ]
  },
  {
   "cell_type": "markdown",
   "id": "ecab24ac",
   "metadata": {},
   "source": [
    "*    $V_{GG(M1C)}$ antes do ajuste: 0,063V\n",
    "*    $V_{GG(M1C)}$ após o ajuste: 0,017V\n",
    "*    $V_{GG(M2)}$ antes do ajuste: 0V\n",
    "*    $V_{GG(M2)}$ após o ajuste: -0,1V"
   ]
  },
  {
   "cell_type": "code",
   "execution_count": 20,
   "id": "0108a828",
   "metadata": {},
   "outputs": [],
   "source": [
    "vgg_M1c_adj = 0.017\n",
    "vgg_M2_adj = -0.1"
   ]
  },
  {
   "cell_type": "markdown",
   "id": "7f2f2102",
   "metadata": {},
   "source": [
    "**Circuito usado para dimensionamento da fonte de corrente cascode**\n",
    "\n",
    "![Circuito Figura B Questão 2](jupyter_img/FiguraB_Questao2_Circuito.jpg)\n",
    "\n",
    "**Plot de $I_{out} \\times V_{out}$ antes (ciano) e após (vermelho) o ajuste empírico**\n",
    "\n",
    "![Plot Figura B Questão 2](jupyter_img/FiguraB_Questao2_Plot.jpg)"
   ]
  },
  {
   "cell_type": "markdown",
   "id": "f691e832",
   "metadata": {},
   "source": [
    "### 3.B - Dimensionamento de $M_{3C}$, $M_{4C}$, $M_{5}$ e $M_{6}$"
   ]
  },
  {
   "cell_type": "code",
   "execution_count": 21,
   "id": "6ceb91f0",
   "metadata": {},
   "outputs": [
    {
     "name": "stdout",
     "output_type": "stream",
     "text": [
      "Dimensionamento de M3c e M4c\n",
      "============================\n",
      "If M3c = 52.248\n",
      "If M4c = 47.858\n",
      "W/L M3c = 0.162\n",
      "W/L M4c = 1.266\n",
      "W M3c = 2.000e-07\n",
      "L M3c = 1.231e-06\n",
      "W M4c = 2.000e-07\n",
      "L M4c = 1.580e-07\n"
     ]
    }
   ],
   "source": [
    "print(\"Dimensionamento de M3c e M4c\")\n",
    "print(\"============================\")\n",
    "\n",
    "# Cálculo de funções dos níveis de inversão\n",
    "f_if_M3c = (vgg_M1c_adj - VSS - VT0_n)/(N_n * Phi_t)\n",
    "f_if_M4c = -(vgg_M1c_adj - VDD - VT0_p)/(N_p * Phi_t)\n",
    "\n",
    "# Definição de níveis de inversão de M3c e M4c\n",
    "if_M3c = f_if_inv(f_if_M3c)\n",
    "if_M4c = f_if_inv(f_if_M4c)\n",
    "print(f\"If M3c = {if_M3c:.3f}\")\n",
    "print(f\"If M4c = {if_M4c:.3f}\")\n",
    "\n",
    "# Escolha de I_d\n",
    "I_d_M34c = 3e-6\n",
    "\n",
    "# Escolha de W/L para M3c e M4c\n",
    "WL_ratio_M3c = I_d_M34c/(Isq_n*if_M3c)\n",
    "WL_ratio_M4c = I_d_M34c/(Isq_p*if_M4c)\n",
    "print(f\"W/L M3c = {WL_ratio_M3c:.3f}\")\n",
    "print(f\"W/L M4c = {WL_ratio_M4c:.3f}\")\n",
    "\n",
    "# Escolha de W e L\n",
    "W_M3c = 200e-9\n",
    "L_M3c = W_M3c/WL_ratio_M3c\n",
    "W_M4c = 200e-9\n",
    "L_M4c = W_M4c/WL_ratio_M4c\n",
    "print(f\"W M3c = {W_M3c:.3e}\")\n",
    "print(f\"L M3c = {L_M3c:.3e}\")\n",
    "print(f\"W M4c = {W_M4c:.3e}\")\n",
    "print(f\"L M4c = {L_M4c:.3e}\")"
   ]
  },
  {
   "cell_type": "code",
   "execution_count": 22,
   "id": "2575b7ed",
   "metadata": {},
   "outputs": [
    {
     "name": "stdout",
     "output_type": "stream",
     "text": [
      "Dimensionamento de M5 e M6\n",
      "============================\n",
      "If M5 = 20.064\n",
      "If M6 = 99.554\n",
      "W/L M5 = 0.423\n",
      "W/L M6 = 0.609\n",
      "W M5 = 2.000e-07\n",
      "L M5 = 4.727e-07\n",
      "W M6 = 2.000e-07\n",
      "L M6 = 3.286e-07\n"
     ]
    }
   ],
   "source": [
    "print(\"Dimensionamento de M5 e M6\")\n",
    "print(\"============================\")\n",
    "\n",
    "# Cálculo de funções dos níveis de inversão\n",
    "f_if_M5 = (vgg_M2_adj - VSS - VT0_n)/(N_n * Phi_t)\n",
    "f_if_M6 = -(vgg_M2_adj - VDD - VT0_p)/(N_p * Phi_t)\n",
    "\n",
    "# Definição de níveis de inversão de M5 e M6\n",
    "if_M5 = f_if_inv(f_if_M5)\n",
    "if_M6 = f_if_inv(f_if_M6)\n",
    "print(f\"If M5 = {if_M5:.3f}\")\n",
    "print(f\"If M6 = {if_M6:.3f}\")\n",
    "\n",
    "# Escolha de I_d\n",
    "I_d_M56 = 3e-6\n",
    "\n",
    "# Escolha de W/L para M5 e M6\n",
    "WL_ratio_M5 = I_d_M56/(Isq_n*if_M5)\n",
    "WL_ratio_M6 = I_d_M56/(Isq_p*if_M6)\n",
    "print(f\"W/L M5 = {WL_ratio_M5:.3f}\")\n",
    "print(f\"W/L M6 = {WL_ratio_M6:.3f}\")\n",
    "\n",
    "# Escolha de W e L\n",
    "W_M5 = 200e-9\n",
    "L_M5 = W_M5/WL_ratio_M5\n",
    "W_M6 = 200e-9\n",
    "L_M6 = W_M6/WL_ratio_M6\n",
    "print(f\"W M5 = {W_M5:.3e}\")\n",
    "print(f\"L M5 = {L_M5:.3e}\")\n",
    "print(f\"W M6 = {W_M6:.3e}\")\n",
    "print(f\"L M6 = {L_M6:.3e}\")"
   ]
  },
  {
   "cell_type": "markdown",
   "id": "f337f6c6",
   "metadata": {},
   "source": [
    "*    $V_{GG(M1C)}$ antes do ajuste: -0,080V\n",
    "*    $V_{GG(M1C)}$ após o ajuste: 0,017V\n",
    "*    $V_{GG(M2)}$ antes do ajuste: -0,145V\n",
    "*    $V_{GG(M2)}$ após o ajuste: -0,100V"
   ]
  },
  {
   "cell_type": "markdown",
   "id": "54cd93e1",
   "metadata": {},
   "source": [
    "Dimensões após o ajuste:\n",
    "\n",
    "*    $W_{3C}$ = 200 nm\n",
    "*    $L_{3C}$ = 1000 nm\n",
    "*    $W_{4C}$ = 711 nm\n",
    "*    $L_{4C}$ = 200 nm\n",
    "*    $W_{5}$ = 200 nm\n",
    "*    $L_{5}$ = 810 nm\n",
    "*    $W_{6}$ = 200 nm\n",
    "*    $L_{6}$ = 160 nm"
   ]
  },
  {
   "cell_type": "markdown",
   "id": "8bb276cd",
   "metadata": {},
   "source": [
    "**Circuito usado para dimensionamento dos divisores de tensão**\n",
    "\n",
    "![Circuito Figura B Questão 4](jupyter_img/FiguraB_Questao4_Circuito.jpg)"
   ]
  },
  {
   "cell_type": "markdown",
   "id": "e1d06df0",
   "metadata": {},
   "source": [
    "### 3.C - Simulação completa de fonte de corrente cascode"
   ]
  },
  {
   "cell_type": "markdown",
   "id": "f47d3adf",
   "metadata": {},
   "source": [
    "**Circuito final usado para simulação da fonte de corrente cascode**\n",
    "\n",
    "![Circuito Figura B Questão 5](jupyter_img/FiguraB_Questao5_Circuito.jpg)\n",
    "\n",
    "**Plot de $I_{out} \\times V_{out}$ na simulação do circuito final**\n",
    "\n",
    "![Plot Figura B Questão 2](jupyter_img/FiguraB_Questao5_Plot.jpg)"
   ]
  },
  {
   "cell_type": "code",
   "execution_count": 27,
   "id": "6fcc0997",
   "metadata": {},
   "outputs": [
    {
     "name": "stdout",
     "output_type": "stream",
     "text": [
      "g_out Fonte cascode = 7.500e-07\n"
     ]
    }
   ],
   "source": [
    "#Transcondutância de saída para o meio da faixa de excursão (fonte cascode)\n",
    "g_out_cascode = (20.002606e-6 - 20.003356e-6)/(-150e-3 - (-149e-3))\n",
    "print(f\"g_out Fonte cascode = {g_out_cascode:.3e}\")"
   ]
  }
 ],
 "metadata": {
  "colab": {
   "provenance": []
  },
  "kernelspec": {
   "display_name": "base",
   "language": "python",
   "name": "python3"
  },
  "language_info": {
   "codemirror_mode": {
    "name": "ipython",
    "version": 3
   },
   "file_extension": ".py",
   "mimetype": "text/x-python",
   "name": "python",
   "nbconvert_exporter": "python",
   "pygments_lexer": "ipython3",
   "version": "3.11.5"
  }
 },
 "nbformat": 4,
 "nbformat_minor": 5
}
