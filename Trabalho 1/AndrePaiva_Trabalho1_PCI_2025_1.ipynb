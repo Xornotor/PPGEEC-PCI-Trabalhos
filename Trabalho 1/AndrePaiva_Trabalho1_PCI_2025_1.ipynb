{
 "cells": [
  {
   "cell_type": "markdown",
   "id": "88b4a6a4",
   "metadata": {
    "id": "88b4a6a4"
   },
   "source": [
    "# **Trabalho 1 - Memorial de Cálculo e Gráficos**\n",
    "\n",
    "**Disciplina:** PPGEE0017 - Projeto de Circuitos Integrados\n",
    "\n",
    "**Discente:** André Paiva Conrado Rodrigues (N=2)"
   ]
  },
  {
   "cell_type": "markdown",
   "id": "ed0de1ae",
   "metadata": {
    "id": "ed0de1ae"
   },
   "source": [
    "## 1 - Escopo do trabalho\n",
    "\n",
    "\n",
    "### Características do circuito a ser dimensionado\n",
    "\n",
    "Dimensionamento de Fontes de Corrente (simples e cascode) com os seguintes parâmetros:\n",
    "\n",
    "| Parâmetro | Min | Typ  | Máx   | Unidade |\n",
    "|-----------|-----|------|-------|---------|\n",
    "| $I_{out}$ | --  | 20   | --    | $\\mu \\mathrm{A}$ |\n",
    "| $V_{out}$ | --  | --   | 0.3   | V       |\n",
    "| $V_{DD}$  | --  | 0.6  | --    | V       |\n",
    "| $V_{SS}$  | --  | -0.6 | --    | V       |\n",
    "| $W$       | 160 | --   | 32000 | nm      |\n",
    "| $L$       | 120 | --   | 24000 | nm      |\n",
    "\n",
    "### Parâmetros da tecnologia\n",
    "\n",
    "| Parâmetro  | Canal N | Canal P | Unidade |\n",
    "|------------|---------|---------|---------|\n",
    "| $I_{sq}$   | 353.38  | 49.514  | nA      |\n",
    "| $n$        | 1,3790  | 1,2952  | -       |\n",
    "| $\\phi_{t}$ | 26      | 26      | mV      |\n",
    "| $V_{T0}$   | 0,3618  | -0,3554 | V       |"
   ]
  },
  {
   "cell_type": "code",
   "execution_count": 1,
   "id": "QlKdsMka2nVa",
   "metadata": {
    "id": "QlKdsMka2nVa"
   },
   "outputs": [],
   "source": [
    "# Características da fonte de corrente\n",
    "I_out = 20e-6\n",
    "V_out_max = 0.3\n",
    "VDD = 0.6\n",
    "VSS = -0.6\n",
    "\n",
    "# Parâmetros da tecnologia\n",
    "Isq_p = 49.514e-9\n",
    "Isq_n = 353.38e-9\n",
    "N_p = 1.2952\n",
    "N_n = 1.3790\n",
    "VT0_p = -0.3554\n",
    "VT0_n = 0.3618\n",
    "Phi_t = 26e-3"
   ]
  },
  {
   "cell_type": "code",
   "execution_count": 2,
   "id": "MvIqlJmy55vL",
   "metadata": {
    "id": "MvIqlJmy55vL"
   },
   "outputs": [],
   "source": [
    "# Importação de bibliotecas\n",
    "import numpy as np"
   ]
  },
  {
   "cell_type": "markdown",
   "id": "hzDEmn7g3cuR",
   "metadata": {
    "id": "hzDEmn7g3cuR"
   },
   "source": [
    "## 2 - Dimensionamento de fonte de corrente simples"
   ]
  },
  {
   "cell_type": "markdown",
   "id": "45OwoUxj3ilj",
   "metadata": {
    "id": "45OwoUxj3ilj"
   },
   "source": [
    "### 2.A - Dimensionamento de $M_{1S}$"
   ]
  },
  {
   "cell_type": "code",
   "execution_count": 3,
   "id": "_1X0ptrO4Kg3",
   "metadata": {
    "colab": {
     "base_uri": "https://localhost:8080/"
    },
    "id": "_1X0ptrO4Kg3",
    "outputId": "f5f6242b-597b-415c-8398-7be83bf289c2"
   },
   "outputs": [
    {
     "name": "stdout",
     "output_type": "stream",
     "text": [
      "Dimensionamento de M1s\n",
      "======================\n",
      "If(max) = 71.905\n",
      "If = 70.000\n",
      "VGG = -0.0393\n",
      "W/L = 5.770\n",
      "W = 1.154e-06\n",
      "L = 2.000e-07\n"
     ]
    }
   ],
   "source": [
    "print(\"Dimensionamento de M1s\")\n",
    "print(\"======================\")\n",
    "\n",
    "# Cálculo de if_max\n",
    "if_max_M1s = (((VDD - V_out_max)/Phi_t) - 3)**2 - 1\n",
    "print(f'If(max) = {if_max_M1s:.3f}')\n",
    "\n",
    "# Seleção de if < if_max\n",
    "if_M1s = 70\n",
    "print(f'If = {if_M1s:.3f}')\n",
    "\n",
    "# Cálculo de VGG\n",
    "f_if_M1s =  np.sqrt(if_M1s + 1) - 2 + np.log(np.sqrt(if_M1s + 1) - 1)\n",
    "vgg_M1s = -N_p * Phi_t * f_if_M1s + VT0_p + VDD\n",
    "print(f\"VGG = {vgg_M1s:.4f}\")\n",
    "\n",
    "# Determinar razão de aspecto\n",
    "WL_ratio_M1s = I_out/(Isq_p * if_M1s)\n",
    "print(f\"W/L = {WL_ratio_M1s:.3f}\")\n",
    "\n",
    "# Escolha de W e L\n",
    "L_M1s = 200e-9\n",
    "W_M1s = L_M1s * WL_ratio_M1s\n",
    "print(f\"W = {W_M1s:.3e}\")\n",
    "print(f\"L = {L_M1s:.3e}\")"
   ]
  },
  {
   "cell_type": "markdown",
   "id": "61f101ec",
   "metadata": {},
   "source": [
    "*    $V_{GG1S}$ antes do ajuste: -0,0393V\n",
    "*    $V_{GG1S}$ após o ajuste: -0,0546V"
   ]
  },
  {
   "cell_type": "code",
   "execution_count": 4,
   "id": "dda1c51a",
   "metadata": {},
   "outputs": [],
   "source": [
    "vgg_M1s_adj = -0.0546"
   ]
  },
  {
   "cell_type": "markdown",
   "id": "87af12c0",
   "metadata": {},
   "source": [
    "**Circuito usado para dimensionamento da fonte de corrente simples**\n",
    "\n",
    "![Circuito Figura A Questão 2](jupyter_img/FiguraA_Questao2_Circuito.jpg)\n",
    "\n",
    "**Plot de $I_{out} \\times V_{out}$ antes (ciano) e após (vermelho) o ajuste empírico**\n",
    "\n",
    "![Plot Figura A Questão 2](jupyter_img/FiguraA_Questao2_Plot.jpg)"
   ]
  },
  {
   "cell_type": "markdown",
   "id": "cf345a98",
   "metadata": {},
   "source": [
    "### 2.B - Dimensionamento de $M_{3S}$ e $M_{4S}$"
   ]
  },
  {
   "cell_type": "code",
   "execution_count": 13,
   "id": "424051db",
   "metadata": {},
   "outputs": [
    {
     "name": "stdout",
     "output_type": "stream",
     "text": [
      "Dimensionamento de M3s e M4s\n",
      "============================\n",
      "If M3s = 30.519\n",
      "If M4s = 77.025\n",
      "W/L M3s = 0.464\n",
      "W/L M4s = 0.184\n",
      "W M3s = 2.000e-07\n",
      "L M3s = 4.314e-07\n",
      "W M4s = 2.000e-07\n",
      "L M4s = 1.089e-06\n"
     ]
    }
   ],
   "source": [
    "print(\"Dimensionamento de M3s e M4s\")\n",
    "print(\"============================\")\n",
    "\n",
    "# Função para inversa de f(if)\n",
    "def f_if_inv(f_if):\n",
    "    u = f_if + 2\n",
    "    k_u = 1 - ((84.4839)/(u**2 + 150.8640))\n",
    "    frac = np.exp(u-1)/(1 + (k_u * np.log(1 + np.exp(u-1))))\n",
    "    i_f = (1 + np.log(1+frac))**2 - 1\n",
    "    return i_f\n",
    "\n",
    "# Cálculo de funções dos níveis de inversão\n",
    "f_if_M3s = (vgg_M1s_adj - VSS - VT0_n)/(N_n * Phi_t)\n",
    "f_if_M4s = -(vgg_M1s_adj - VDD - VT0_p)/(N_p * Phi_t)\n",
    "\n",
    "# Definição de níveis de inversão de M3s e M4s\n",
    "if_M3s = f_if_inv(f_if_M3s)\n",
    "if_M4s = f_if_inv(f_if_M4s)\n",
    "print(f\"If M3s = {if_M3s:.3f}\")\n",
    "print(f\"If M4s = {if_M4s:.3f}\")\n",
    "\n",
    "# Escolha de I_d\n",
    "I_d_M34s = 5e-6\n",
    "\n",
    "# Escolha de W/L para M3s e M4s\n",
    "WL_ratio_M3s = I_d_M34s/(Isq_n*if_M3s)\n",
    "WL_ratio_M4s = I_d_M34s/(Isq_n*if_M4s)\n",
    "print(f\"W/L M3s = {WL_ratio_M3s:.3f}\")\n",
    "print(f\"W/L M4s = {WL_ratio_M4s:.3f}\")\n",
    "\n",
    "# Escolha de W e L\n",
    "W_M3s = 200e-9\n",
    "L_M3s = W_M3s/WL_ratio_M3s\n",
    "W_M4s = 200e-9\n",
    "L_M4s = W_M4s/WL_ratio_M4s\n",
    "print(f\"W M3s = {W_M3s:.3e}\")\n",
    "print(f\"L M3s = {L_M3s:.3e}\")\n",
    "print(f\"W M4s = {W_M4s:.3e}\")\n",
    "print(f\"L M4s = {L_M4s:.3e}\")\n"
   ]
  },
  {
   "cell_type": "markdown",
   "id": "beb9761b",
   "metadata": {},
   "source": [
    "*    $V_{GG1S}$ antes do ajuste: -0,1750V\n",
    "*    $V_{GG1S}$ após o ajuste: -0,0546V"
   ]
  },
  {
   "cell_type": "markdown",
   "id": "b4885779",
   "metadata": {},
   "source": [
    "Dimensões após o ajuste:\n",
    "\n",
    "*    $W_{3S}$ = 200 nm\n",
    "*    $L_{3S}$ = 1969 nm\n",
    "*    $W_{4S}$ = 200 nm\n",
    "*    $L_{4S}$ = 200 nm"
   ]
  },
  {
   "cell_type": "markdown",
   "id": "4f3b6b37",
   "metadata": {},
   "source": [
    "**Circuito usado para dimensionamento do divisor de tensão**\n",
    "\n",
    "![Circuito Figura A Questão 4](jupyter_img/FiguraA_Questao4_Circuito.jpg)"
   ]
  },
  {
   "cell_type": "markdown",
   "id": "cd7c517f",
   "metadata": {},
   "source": [
    "### 2.C - Simulação do circuito completo de fonte de corrente"
   ]
  },
  {
   "cell_type": "markdown",
   "id": "f3c209ac",
   "metadata": {},
   "source": [
    "**Circuito final usado para simulação da fonte de corrente simples**\n",
    "\n",
    "![Circuito Figura A Questão 5](jupyter_img/FiguraA_Questao5_Circuito.jpg)\n",
    "\n",
    "**Plot de $I_{out} \\times V_{out}$ na simulação do circuito final**\n",
    "\n",
    "![Plot Figura A Questão 2](jupyter_img/FiguraA_Questao5_Plot.jpg)"
   ]
  },
  {
   "cell_type": "code",
   "execution_count": 15,
   "id": "672c7d47",
   "metadata": {},
   "outputs": [
    {
     "name": "stdout",
     "output_type": "stream",
     "text": [
      "g_out Fonte simples = -5.491e-06\n"
     ]
    }
   ],
   "source": [
    "#Transcondutância de saída para o meio da faixa de excursão\n",
    "g_out = (20.001176e-6 - 19.995685e-6)/(-150e-3 - (-149e-3))\n",
    "print(f\"g_out Fonte simples = {g_out:.3e}\")"
   ]
  },
  {
   "cell_type": "markdown",
   "id": "a29c8d82",
   "metadata": {},
   "source": [
    "## 3 - Dimensionamento de fonte de corrente cascode"
   ]
  }
 ],
 "metadata": {
  "colab": {
   "provenance": []
  },
  "kernelspec": {
   "display_name": "base",
   "language": "python",
   "name": "python3"
  },
  "language_info": {
   "codemirror_mode": {
    "name": "ipython",
    "version": 3
   },
   "file_extension": ".py",
   "mimetype": "text/x-python",
   "name": "python",
   "nbconvert_exporter": "python",
   "pygments_lexer": "ipython3",
   "version": "3.11.5"
  }
 },
 "nbformat": 4,
 "nbformat_minor": 5
}
